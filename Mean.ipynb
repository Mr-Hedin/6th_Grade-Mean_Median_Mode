{
 "cells": [
  {
   "cell_type": "markdown",
   "id": "fe3efd23-b618-48e3-a565-47bb795a3c72",
   "metadata": {},
   "source": [
    "# Mean Practice - Finding the average of a set of numbers\n",
    "---\n",
    "\n",
    "## Finding the average is useful for a variety of reasons\n",
    "1. The average of a set of tests/assignments can you tell you your grade in a class.\n",
    "2. The average of how much money you earn/allowance you get can help you determine how much you might earn next month.\n",
    "3. The average temperature outside over a week can tell you whether to wear warm clothes or not."
   ]
  },
  {
   "cell_type": "code",
   "execution_count": 1,
   "id": "30af83b3-abc1-4f1e-81fd-176f23e3a602",
   "metadata": {},
   "outputs": [
    {
     "name": "stdout",
     "output_type": "stream",
     "text": [
      "61.2\n"
     ]
    }
   ],
   "source": [
    "my_numbers = [100,27,85,43,51]\n",
    "\n",
    "# First, add all of the numbers\n",
    "total = 0\n",
    "for number in my_numbers:\n",
    "    total += number\n",
    "\n",
    "# Second, divide by the number of numbers\n",
    "average = total / len(my_numbers)\n",
    "print(average)\n"
   ]
  },
  {
   "cell_type": "markdown",
   "id": "8b02df97-d585-4f31-8634-deabefeeee3a",
   "metadata": {},
   "source": [
    "---\n",
    "# To make our lives simpler, the datareader.py file will handle the file reading - we can ask the datareader to get columns or rows of our data in Python list format\n",
    "---"
   ]
  },
  {
   "cell_type": "code",
   "execution_count": 9,
   "id": "c83fe604-2af2-40b5-a645-40c6cd032cba",
   "metadata": {},
   "outputs": [
    {
     "name": "stdout",
     "output_type": "stream",
     "text": [
      "['I like to create art of any kind', '4', '1', '4', '4', '2', '5', '4', '4', '4', '3', '5', '3', '4', '4', '3', '1', '2', '3', '2', '3', '2', '5', '5', '1', '5', '3', '5', '4', '5', '4', '4', '2', '3', '5', '4', '1', '3', '4', '5', '4', '2', '5', '3', '3', '3', '3', '3', '2', '5', '3', '5', '3', '5', '3', '3', '3', '3', '3', '3', '5', '3', '3', '4', '2', '3', '2', '5', '4', '4', '5', '5', '4', '4', '2']\n",
      "['4', '1', '4', '4', '2', '5', '4', '4', '4', '3', '5', '3', '4', '4', '3', '1', '2', '3', '2', '3', '2', '5', '5', '1', '5', '3', '5', '4', '5', '4', '4', '2', '3', '5', '4', '1', '3', '4', '5', '4', '2', '5', '3', '3', '3', '3', '3', '2', '5', '3', '5', '3', '5', '3', '3', '3', '3', '3', '3', '5', '3', '3', '4', '2', '3', '2', '5', '4', '4', '5', '5', '4', '4', '2']\n"
     ]
    }
   ],
   "source": [
    "import datareader\n",
    "column_1 = datareader.get_column(3)\n",
    "print(column_1)\n",
    "\n",
    "column_1.pop(0)\n",
    "print(column_1)"
   ]
  },
  {
   "cell_type": "markdown",
   "id": "67efaa6e-6222-4d4d-9308-375bc1eec2a0",
   "metadata": {},
   "source": [
    "# Finally, we can take the average of our data set\n",
    "## You can reuse the code from your notes with some minor modifications"
   ]
  },
  {
   "cell_type": "code",
   "execution_count": null,
   "id": "03de0a4a-6d4c-4790-805d-bf714e74ac8a",
   "metadata": {},
   "outputs": [],
   "source": [    "my_numbers = [100,27,85,43,51]\n",
    "\n",
    "# First, add all of the numbers\n",
    "total = 0\n",
    "for number in my_numbers:\n",
    "    total += number\n",
    "\n",
    "# Second, divide by the number of numbers\n",
    "average = total / len(my_numbers)\n",
    "print(average)\n"]
  }
 ],
 "metadata": {
  "kernelspec": {
   "display_name": "Python 3 (ipykernel)",
   "language": "python",
   "name": "python3"
  },
  "language_info": {
   "codemirror_mode": {
    "name": "ipython",
    "version": 3
   },
   "file_extension": ".py",
   "mimetype": "text/x-python",
   "name": "python",
   "nbconvert_exporter": "python",
   "pygments_lexer": "ipython3",
   "version": "3.10.10"
  }
 },
 "nbformat": 4,
 "nbformat_minor": 5
}
